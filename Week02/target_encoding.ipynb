{
  "nbformat": 4,
  "nbformat_minor": 0,
  "metadata": {
    "colab": {
      "name": "target_encoding.ipynb",
      "provenance": [],
      "collapsed_sections": []
    },
    "kernelspec": {
      "name": "python3",
      "display_name": "Python 3"
    }
  },
  "cells": [
    {
      "cell_type": "markdown",
      "metadata": {
        "id": "V9qcIeiuv8en"
      },
      "source": [
        "## 这是老师的V2版本，也就是我们优化的目标"
      ]
    },
    {
      "cell_type": "code",
      "metadata": {
        "id": "9N0qLxtywLzr"
      },
      "source": [
        "import numpy as np\n",
        "import pandas as pd\n",
        "\n",
        "def target_mean_v2(data, y_name, x_name):\n",
        "    result = np.zeros(data.shape[0])\n",
        "    value_dict = dict()\n",
        "    count_dict = dict()\n",
        "    for i in range(data.shape[0]):\n",
        "        if data.loc[i, x_name] not in value_dict.keys():\n",
        "            value_dict[data.loc[i, x_name]] = data.loc[i, y_name]\n",
        "            count_dict[data.loc[i, x_name]] = 1\n",
        "        else:\n",
        "            value_dict[data.loc[i, x_name]] += data.loc[i, y_name]\n",
        "            count_dict[data.loc[i, x_name]] += 1\n",
        "    for i in range(data.shape[0]):\n",
        "        result[i] = (value_dict[data.loc[i, x_name]] - data.loc[i, y_name]) / (count_dict[data.loc[i, x_name]] - 1)\n",
        "    return result"
      ],
      "execution_count": 1,
      "outputs": []
    },
    {
      "cell_type": "code",
      "metadata": {
        "id": "mIlH_-VcxCJ4"
      },
      "source": [
        "y = np.random.randint(2, size=(5000, 1))\n",
        "x = np.random.randint(10, size=(5000, 1))\n",
        "data = pd.DataFrame(np.concatenate([y, x], axis=1), columns=['y', 'x'])"
      ],
      "execution_count": 2,
      "outputs": []
    },
    {
      "cell_type": "code",
      "metadata": {
        "colab": {
          "base_uri": "https://localhost:8080/"
        },
        "id": "yHjA2L91w5HE",
        "outputId": "7affe76e-967c-4b44-b809-875913f5f72f"
      },
      "source": [
        "%%timeit\n",
        "target_mean_v2(data, 'y', 'x')"
      ],
      "execution_count": 3,
      "outputs": [
        {
          "output_type": "stream",
          "text": [
            "1 loop, best of 3: 255 ms per loop\n"
          ],
          "name": "stdout"
        }
      ]
    },
    {
      "cell_type": "markdown",
      "metadata": {
        "id": "GmDXS-HNwt1L"
      },
      "source": [
        "## 首先对V2版本的代码本身进行优化，得到V3版本，由255ms降低到9.15ms，速度提升26.8倍左右 "
      ]
    },
    {
      "cell_type": "code",
      "metadata": {
        "id": "eOrjQaHqwbv-"
      },
      "source": [
        "from collections import defaultdict\n",
        "\n",
        "def target_mean_v3(data, y_name, x_name):\n",
        "    result = np.zeros(data.shape[0])\n",
        "    value_dict = defaultdict(int)\n",
        "    count_dict = defaultdict(int)\n",
        "    x = data[x_name].values\n",
        "    y = data[y_name].values\n",
        "    for i in range(x.shape[0]):\n",
        "        value_dict[x[i]] += y[i]\n",
        "        count_dict[x[i]] += 1\n",
        "    for i in range(x.shape[0]):\n",
        "        result[i] = (value_dict[x[i]] - y[i]) / (count_dict[x[i]] - 1)\n",
        "    return result"
      ],
      "execution_count": 4,
      "outputs": []
    },
    {
      "cell_type": "code",
      "metadata": {
        "colab": {
          "base_uri": "https://localhost:8080/"
        },
        "id": "Y5M6Lb1GxaLl",
        "outputId": "6a5ff9c0-8957-4d47-8d01-f24f5b886c88"
      },
      "source": [
        "%%timeit\n",
        "target_mean_v3(data, 'y', 'x')"
      ],
      "execution_count": 5,
      "outputs": [
        {
          "output_type": "stream",
          "text": [
            "100 loops, best of 3: 9.15 ms per loop\n"
          ],
          "name": "stdout"
        }
      ]
    },
    {
      "cell_type": "code",
      "metadata": {
        "colab": {
          "base_uri": "https://localhost:8080/"
        },
        "id": "hI_Q7_YZxck1",
        "outputId": "720141f7-6bb8-455e-a13b-7c37ba13aed7"
      },
      "source": [
        "# 正确性判断\n",
        "result_2 = target_mean_v2(data, 'y', 'x')\n",
        "result_3 = target_mean_v3(data,'y','x')\n",
        "diff = np.linalg.norm(result_2 - result_3)\n",
        "print(diff)"
      ],
      "execution_count": 6,
      "outputs": [
        {
          "output_type": "stream",
          "text": [
            "0.0\n"
          ],
          "name": "stdout"
        }
      ]
    },
    {
      "cell_type": "markdown",
      "metadata": {
        "id": "YtihRC_Ex-Pj"
      },
      "source": [
        "## 使用 Cython 进行优化，得到V4版本，由9.15ms降低到1.05ms，速度提升7.7倍左右"
      ]
    },
    {
      "cell_type": "code",
      "metadata": {
        "id": "QLt45jX0x5dQ"
      },
      "source": [
        "%load_ext Cython"
      ],
      "execution_count": 7,
      "outputs": []
    },
    {
      "cell_type": "code",
      "metadata": {
        "id": "0Ys3AX9KyKeV"
      },
      "source": [
        "%%cython\n",
        "\n",
        "import numpy as np\n",
        "from collections import defaultdict\n",
        "cimport numpy as np\n",
        "\n",
        "cpdef np.ndarray[double] target_mean_v4(data, y_name, x_name):\n",
        "    cdef np.ndarray[double] result = np.zeros(data.shape[0])\n",
        "\n",
        "    value_dict = defaultdict(int)\n",
        "    count_dict = defaultdict(int)\n",
        "    cdef np.ndarray[long] x = data[x_name].values\n",
        "    cdef np.ndarray[long] y = data[y_name].values\n",
        "    for i in range(x.shape[0]):\n",
        "        value_dict[x[i]] += y[i]\n",
        "        count_dict[x[i]] += 1\n",
        "    for i in range(x.shape[0]):\n",
        "        result[i] = (value_dict[x[i]] - y[i]) / (count_dict[x[i]] - 1)\n",
        "    return result"
      ],
      "execution_count": 8,
      "outputs": []
    },
    {
      "cell_type": "code",
      "metadata": {
        "colab": {
          "base_uri": "https://localhost:8080/"
        },
        "id": "GZCZScxGyT-R",
        "outputId": "01cfec07-31b0-41c0-9c03-1bb971f65044"
      },
      "source": [
        "%%timeit\n",
        "target_mean_v4(data,'y','x')"
      ],
      "execution_count": 9,
      "outputs": [
        {
          "output_type": "stream",
          "text": [
            "1000 loops, best of 3: 1.05 ms per loop\n"
          ],
          "name": "stdout"
        }
      ]
    },
    {
      "cell_type": "code",
      "metadata": {
        "colab": {
          "base_uri": "https://localhost:8080/"
        },
        "id": "Gk7-xTVOyZDR",
        "outputId": "c560b376-28e0-498c-9cb5-0817d642a9ea"
      },
      "source": [
        "# 正确性判断\n",
        "result_4 = target_mean_v4(data,'y','x')\n",
        "diff = np.linalg.norm(result_2 - result_4)\n",
        "print(diff)"
      ],
      "execution_count": 10,
      "outputs": [
        {
          "output_type": "stream",
          "text": [
            "0.0\n"
          ],
          "name": "stdout"
        }
      ]
    },
    {
      "cell_type": "markdown",
      "metadata": {
        "id": "IAH09AoMywT0"
      },
      "source": [
        "## 使用 Cython cplus 进行优化，得到V5版本，从1.05ms降低到0.414ms，速度提升了1.5倍左右"
      ]
    },
    {
      "cell_type": "code",
      "metadata": {
        "id": "BOxnhuhAyrRh"
      },
      "source": [
        "%%cython --cplus\n",
        "\n",
        "import numpy as np\n",
        "cimport numpy as np\n",
        "\n",
        "from libcpp.unordered_map cimport unordered_map\n",
        "\n",
        "cpdef np.ndarray[double] target_mean_v5(data, y_name, x_name):\n",
        "    cdef np.ndarray[double] result = np.zeros(data.shape[0])\n",
        "    cdef unordered_map[int, int] value_dict\n",
        "    cdef unordered_map[int, int] count_dict\n",
        "    \n",
        "    cdef np.ndarray[long] x = data[x_name].values\n",
        "    cdef np.ndarray[long] y = data[y_name].values\n",
        "    for i in range(x.shape[0]):\n",
        "        value_dict[x[i]] += y[i]\n",
        "        count_dict[x[i]] += 1\n",
        "    for i in range(x.shape[0]):\n",
        "        result[i] = (value_dict[x[i]] - y[i]) / (count_dict[x[i]] - 1)\n",
        "    return result"
      ],
      "execution_count": 11,
      "outputs": []
    },
    {
      "cell_type": "code",
      "metadata": {
        "colab": {
          "base_uri": "https://localhost:8080/"
        },
        "id": "wwF7EIRWy-Tu",
        "outputId": "bb2261a8-947a-4f92-f943-5689ab96f565"
      },
      "source": [
        "%%timeit\n",
        "target_mean_v5(data,'y','x')"
      ],
      "execution_count": 12,
      "outputs": [
        {
          "output_type": "stream",
          "text": [
            "1000 loops, best of 3: 414 µs per loop\n"
          ],
          "name": "stdout"
        }
      ]
    },
    {
      "cell_type": "code",
      "metadata": {
        "colab": {
          "base_uri": "https://localhost:8080/"
        },
        "id": "SxRalYTEzBZ6",
        "outputId": "b706ee00-f0d3-4528-9fbb-697e41880c37"
      },
      "source": [
        "# 正确性判断\n",
        "result_5 = target_mean_v5(data,'y','x')\n",
        "diff = np.linalg.norm(result_2 - result_5)\n",
        "print(diff)"
      ],
      "execution_count": 13,
      "outputs": [
        {
          "output_type": "stream",
          "text": [
            "0.0\n"
          ],
          "name": "stdout"
        }
      ]
    },
    {
      "cell_type": "code",
      "metadata": {
        "id": "gREIt8A2zIzL"
      },
      "source": [],
      "execution_count": 13,
      "outputs": []
    }
  ]
}